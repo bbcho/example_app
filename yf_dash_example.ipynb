{
 "cells": [
  {
   "cell_type": "code",
   "execution_count": 1,
   "metadata": {},
   "outputs": [],
   "source": [
    "import pandas as pd\n",
    "import yfinance as yf\n",
    "import plotly.graph_objects as go\n",
    "# import flask\n",
    "# import pandas_datareader.data as web"
   ]
  },
  {
   "cell_type": "code",
   "execution_count": 2,
   "metadata": {},
   "outputs": [],
   "source": [
    "import dash\n",
    "import dash_core_components as dcc\n",
    "import dash_html_components as html\n",
    "from dash.dependencies import Input, Output"
   ]
  },
  {
   "cell_type": "code",
   "execution_count": 3,
   "metadata": {},
   "outputs": [
    {
     "name": "stdout",
     "output_type": "stream",
     "text": [
      "\u001b[0;31mSignature:\u001b[0m\n",
      "\u001b[0myf\u001b[0m\u001b[0;34m.\u001b[0m\u001b[0mdownload\u001b[0m\u001b[0;34m(\u001b[0m\u001b[0;34m\u001b[0m\n",
      "\u001b[0;34m\u001b[0m    \u001b[0mtickers\u001b[0m\u001b[0;34m,\u001b[0m\u001b[0;34m\u001b[0m\n",
      "\u001b[0;34m\u001b[0m    \u001b[0mstart\u001b[0m\u001b[0;34m=\u001b[0m\u001b[0;32mNone\u001b[0m\u001b[0;34m,\u001b[0m\u001b[0;34m\u001b[0m\n",
      "\u001b[0;34m\u001b[0m    \u001b[0mend\u001b[0m\u001b[0;34m=\u001b[0m\u001b[0;32mNone\u001b[0m\u001b[0;34m,\u001b[0m\u001b[0;34m\u001b[0m\n",
      "\u001b[0;34m\u001b[0m    \u001b[0mactions\u001b[0m\u001b[0;34m=\u001b[0m\u001b[0;32mFalse\u001b[0m\u001b[0;34m,\u001b[0m\u001b[0;34m\u001b[0m\n",
      "\u001b[0;34m\u001b[0m    \u001b[0mthreads\u001b[0m\u001b[0;34m=\u001b[0m\u001b[0;32mTrue\u001b[0m\u001b[0;34m,\u001b[0m\u001b[0;34m\u001b[0m\n",
      "\u001b[0;34m\u001b[0m    \u001b[0mgroup_by\u001b[0m\u001b[0;34m=\u001b[0m\u001b[0;34m'column'\u001b[0m\u001b[0;34m,\u001b[0m\u001b[0;34m\u001b[0m\n",
      "\u001b[0;34m\u001b[0m    \u001b[0mauto_adjust\u001b[0m\u001b[0;34m=\u001b[0m\u001b[0;32mFalse\u001b[0m\u001b[0;34m,\u001b[0m\u001b[0;34m\u001b[0m\n",
      "\u001b[0;34m\u001b[0m    \u001b[0mback_adjust\u001b[0m\u001b[0;34m=\u001b[0m\u001b[0;32mFalse\u001b[0m\u001b[0;34m,\u001b[0m\u001b[0;34m\u001b[0m\n",
      "\u001b[0;34m\u001b[0m    \u001b[0mprogress\u001b[0m\u001b[0;34m=\u001b[0m\u001b[0;32mTrue\u001b[0m\u001b[0;34m,\u001b[0m\u001b[0;34m\u001b[0m\n",
      "\u001b[0;34m\u001b[0m    \u001b[0mperiod\u001b[0m\u001b[0;34m=\u001b[0m\u001b[0;34m'max'\u001b[0m\u001b[0;34m,\u001b[0m\u001b[0;34m\u001b[0m\n",
      "\u001b[0;34m\u001b[0m    \u001b[0minterval\u001b[0m\u001b[0;34m=\u001b[0m\u001b[0;34m'1d'\u001b[0m\u001b[0;34m,\u001b[0m\u001b[0;34m\u001b[0m\n",
      "\u001b[0;34m\u001b[0m    \u001b[0mprepost\u001b[0m\u001b[0;34m=\u001b[0m\u001b[0;32mFalse\u001b[0m\u001b[0;34m,\u001b[0m\u001b[0;34m\u001b[0m\n",
      "\u001b[0;34m\u001b[0m    \u001b[0mproxy\u001b[0m\u001b[0;34m=\u001b[0m\u001b[0;32mNone\u001b[0m\u001b[0;34m,\u001b[0m\u001b[0;34m\u001b[0m\n",
      "\u001b[0;34m\u001b[0m    \u001b[0mrounding\u001b[0m\u001b[0;34m=\u001b[0m\u001b[0;32mFalse\u001b[0m\u001b[0;34m,\u001b[0m\u001b[0;34m\u001b[0m\n",
      "\u001b[0;34m\u001b[0m    \u001b[0;34m**\u001b[0m\u001b[0mkwargs\u001b[0m\u001b[0;34m,\u001b[0m\u001b[0;34m\u001b[0m\n",
      "\u001b[0;34m\u001b[0m\u001b[0;34m)\u001b[0m\u001b[0;34m\u001b[0m\u001b[0;34m\u001b[0m\u001b[0m\n",
      "\u001b[0;31mDocstring:\u001b[0m\n",
      "Download yahoo tickers\n",
      ":Parameters:\n",
      "    tickers : str, list\n",
      "        List of tickers to download\n",
      "    period : str\n",
      "        Valid periods: 1d,5d,1mo,3mo,6mo,1y,2y,5y,10y,ytd,max\n",
      "        Either Use period parameter or use start and end\n",
      "    interval : str\n",
      "        Valid intervals: 1m,2m,5m,15m,30m,60m,90m,1h,1d,5d,1wk,1mo,3mo\n",
      "        Intraday data cannot extend last 60 days\n",
      "    start: str\n",
      "        Download start date string (YYYY-MM-DD) or _datetime.\n",
      "        Default is 1900-01-01\n",
      "    end: str\n",
      "        Download end date string (YYYY-MM-DD) or _datetime.\n",
      "        Default is now\n",
      "    group_by : str\n",
      "        Group by 'ticker' or 'column' (default)\n",
      "    prepost : bool\n",
      "        Include Pre and Post market data in results?\n",
      "        Default is False\n",
      "    auto_adjust: bool\n",
      "        Adjust all OHLC automatically? Default is False\n",
      "    actions: bool\n",
      "        Download dividend + stock splits data. Default is False\n",
      "    threads: bool / int\n",
      "        How many threads to use for mass downloading. Default is True\n",
      "    proxy: str\n",
      "        Optional. Proxy server URL scheme. Default is None\n",
      "    rounding: bool\n",
      "        Optional. Round values to 2 decimal places?\n",
      "\u001b[0;31mFile:\u001b[0m      ~/rpanda/example_app/env/lib/python3.9/site-packages/yfinance/multi.py\n",
      "\u001b[0;31mType:\u001b[0m      function\n"
     ]
    }
   ],
   "source": [
    "?yf.download"
   ]
  },
  {
   "cell_type": "code",
   "execution_count": 4,
   "metadata": {},
   "outputs": [],
   "source": [
    "interval='5m'\n",
    "period='5d'\n",
    "cd = 'CL=F'"
   ]
  },
  {
   "cell_type": "code",
   "execution_count": null,
   "metadata": {},
   "outputs": [],
   "source": []
  },
  {
   "cell_type": "code",
   "execution_count": 5,
   "metadata": {},
   "outputs": [],
   "source": [
    "# fig = go.Figure(data=[go.Candlestick(x=df.index,\n",
    "#                 open=df[('Open', cd)],\n",
    "#                 high=df[('High',cd)],\n",
    "#                 low=df[('Low',cd)],\n",
    "#                 close=df[('Close',cd)])])\n",
    "# fig.update_layout(xaxis_rangeslider_visible=False, title=f\"{cd} {interval} Intervals\")\n",
    "# fig.show()"
   ]
  },
  {
   "cell_type": "code",
   "execution_count": 6,
   "metadata": {},
   "outputs": [
    {
     "name": "stdout",
     "output_type": "stream",
     "text": [
      "Dash is running on http://127.0.0.1:8050/\n",
      "\n",
      " * Serving Flask app \"__main__\" (lazy loading)\n",
      " * Environment: production\n",
      "\u001b[31m   WARNING: This is a development server. Do not use it in a production deployment.\u001b[0m\n",
      "\u001b[2m   Use a production WSGI server instead.\u001b[0m\n",
      " * Debug mode: off\n",
      " * Running on http://127.0.0.1:8050/ (Press CTRL+C to quit)\n"
     ]
    }
   ],
   "source": [
    "app = dash.Dash(__name__)\n",
    "\n",
    "app.layout = html.Div([\n",
    "    dcc.Checklist(\n",
    "        id='toggle-rangeslider',\n",
    "        options=[{'label': 'Include Rangeslider', \n",
    "                  'value': 'slider'}],\n",
    "        value=[None]\n",
    "    ),\n",
    "    dcc.Dropdown(\n",
    "        id='dd_code',\n",
    "        options=[\n",
    "            {'label': 'CL<0>','value': 'CL=F'},\n",
    "            {'label': 'RB<0>','value': 'RB=F'},\n",
    "            {'label': 'HO<0>','value': 'HO=F'}\n",
    "        ],\n",
    "        value='CL=F'\n",
    "    ),\n",
    "    dcc.Dropdown(\n",
    "        id='dd_int',\n",
    "        options=[\n",
    "            {'label': '1m','value': '1m'},\n",
    "            {'label': '5m','value': '5m'},\n",
    "            {'label': '15m','value': '15m'}\n",
    "        ],\n",
    "        value='5m'\n",
    "    ),\n",
    "    dcc.Dropdown(\n",
    "        id='dd_period',\n",
    "        options=[\n",
    "            {'label': '1d','value': '1d'},\n",
    "            {'label': '5d','value': '5d'},\n",
    "            {'label': '1mo','value': '1mo'}\n",
    "        ],\n",
    "        value='5d'\n",
    "    ),\n",
    "    dcc.Graph(id=\"graph\"),\n",
    "])\n",
    "\n",
    "@app.callback(\n",
    "    Output(\"graph\", \"figure\"), \n",
    "    [Input(\"toggle-rangeslider\", \"value\"), \n",
    "     Input(\"dd_code\", \"value\"),\n",
    "     Input(\"dd_int\", \"value\"),\n",
    "     Input(\"dd_period\", \"value\")\n",
    "    ])\n",
    "def display_candlestick(value, cd, interval, period):\n",
    "    df = yf.download(cd, period=period, interval=interval)\n",
    "    \n",
    "    if (df.shape[0] == 0) & (period=='1d'):\n",
    "        fig = go.Figure()\n",
    "        fig.update_layout(title=\"Markets are closed for today, please choose 5d or greater for your period\")\n",
    "    else:\n",
    "        fig = go.Figure(data=[go.Candlestick(x=df.index,\n",
    "                    open=df['Open'],\n",
    "                    high=df['High'],\n",
    "                    low=df['Low'],\n",
    "                    close=df['Close'])])\n",
    "        # fig.update_layout(xaxis_rangeslider_visible=False)\n",
    "\n",
    "        fig.update_layout(\n",
    "            xaxis_rangeslider_visible='slider' in value,\n",
    "            title=f\"{cd} {interval} Intervals\"\n",
    "        )\n",
    "\n",
    "    return fig\n",
    "\n",
    "app.run_server(debug=False)"
   ]
  },
  {
   "cell_type": "code",
   "execution_count": null,
   "metadata": {},
   "outputs": [],
   "source": []
  }
 ],
 "metadata": {
  "kernelspec": {
   "display_name": "Python 3",
   "language": "python",
   "name": "python3"
  },
  "language_info": {
   "codemirror_mode": {
    "name": "ipython",
    "version": 3
   },
   "file_extension": ".py",
   "mimetype": "text/x-python",
   "name": "python",
   "nbconvert_exporter": "python",
   "pygments_lexer": "ipython3",
   "version": "3.6.9"
  },
  "metadata": {
   "interpreter": {
    "hash": "e00f922144cdd228553b98021d7aba3cfc62b0e655ebc7454fc8ed8a54efc129"
   }
  }
 },
 "nbformat": 4,
 "nbformat_minor": 4
}
